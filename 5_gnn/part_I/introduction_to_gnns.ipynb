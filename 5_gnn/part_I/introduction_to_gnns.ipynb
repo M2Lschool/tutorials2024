{
  "nbformat": 4,
  "nbformat_minor": 0,
  "metadata": {
    "colab": {
      "provenance": [],
      "gpuType": "T4",
      "toc_visible": true
    },
    "kernelspec": {
      "name": "python3",
      "display_name": "Python 3"
    },
    "language_info": {
      "name": "python"
    },
    "accelerator": "GPU"
  },
  "cells": [
    {
      "cell_type": "markdown",
      "source": [
        "# Basic Graph Neural Networks (GNNs) Architectures.\n",
        "---\n",
        "\n",
        "## Tutorial Overview\n",
        "In this tutorial you will get familiar with Graph Neural Networks (GNNs) by implementing two basic GNNs architectures from scratch: GCN and GAT. You will then train and evaluate these models on the Cora node classification task, and compare their results to a non-relational MLP baseline.\n",
        "\n",
        "\n",
        "## Outline\n",
        "\n",
        "1. Theory Recap\n",
        "2. Task 1: Graph Convolution Network (GCN) Implementation.\n",
        "3. Task 2: Graph Attention Network (GAT) Implementation.\n",
        "4. Task 3: Efficient GAT and GCN implementations with Sparse Matrix operations.\n",
        "5. Task 4: Node classification on the Cora dataset: training, evaluation & analysis.\n",
        "\n",
        "**NB**: Throughout the tutorial you'll find a couple of 📝 **TODO** items, which will prompt you to either fill in some code or write down the answer to a question.\n",
        "\n",
        "## Theory Recap\n",
        "\n",
        "### Fundamental Graph Concepts\n",
        "A graph consists of a set of nodes and a set of edges, where edges form connections between nodes.\n",
        "\n",
        "More formally, a graph is defined as $ G = (V, E)$ where $V$ is the set of vertices / nodes, and $E$ is the set of edges.\n",
        "\n",
        "In an **undirected** graph, each edge is an unordered pair of two nodes $\\in V$. E.g. a friend network can be represented as an undirected graph, assuming that the relationship \"*A is friends with B*\" implies \"*B is friends with A*\".\n",
        "\n",
        "In a **directed** graph, each edge is an ordered pair of nodes $\\in V$. E.g. a citation network would be best represented with a directed graph, since the relationship \"*A cites B*\" does not imply \"*B cites A*\".\n",
        "\n",
        "The **degree** of a node is defined as the number of edges incident on it, i.e. the sum of incoming and outgoing edges for that node.\n",
        "\n",
        "The **in-degree** is the sum of incoming edges only, and the **out-degree** is the sum of outgoing edges only.\n",
        "\n",
        "There are several ways to represent $E$:\n",
        "1. As a **list of edges**: a list of pairs $(u,v)$, where $(u,v)$ means that there is an edge going from node $u$ to node $v$.\n",
        "2. As an **adjacency matrix**: a binary square matrix $A$ of size $|V| \\times |V|$, where $A_{u,v}=1$ iff there is a connection between nodes $u$ and $v$.\n",
        "3. As an **adjacency list**: An array of $|V|$ unordered lists, where the $i$th list corresponds to the $i$th node, and contains all the nodes directly connected to node $i$.\n",
        "\n",
        "---\n",
        "\n",
        "Example: Below is a directed graph with four nodes and five edges.\n",
        "\n",
        "<center><image src=\"https://storage.googleapis.com/dm-educational/assets/graph-nets/toy_graph.png\" width=\"400px\"></center>\n",
        "\n",
        "The arrows on the edges indicate the direction of each edge, e.g. there is an edge going from node 0 to node 1. Between node 0 and node 3, there are two edges: one going from node 0 to node 3 and one from node 3 to node 0.\n",
        "\n",
        "Node 0 has out-degree of 2, since it has two outgoing edges, and an in-degree of 2, since it has two incoming edges.\n",
        "\n",
        "The list of edges is:\n",
        "$$[(0, 1), (0, 3), (1, 2), (2, 0), (3, 0)]$$\n",
        "\n",
        "As adjacency matrix:\n",
        "\n",
        "$$\\begin{array}{l|llll}\n",
        " source \\setminus dest    & n_0 & n_1 & n_2 & n_3 \\\\ \\hline\n",
        "n_0 & 0    & 1    & 0    & 1    \\\\\n",
        "n_1 & 0    & 0    & 1    & 0    \\\\\n",
        "n_2 & 1    & 0    & 0    & 0    \\\\\n",
        "n_3 & 1    & 0    & 0    & 0\n",
        "\\end{array}$$\n",
        "\n",
        "As adjacency list:\n",
        "\n",
        "$$[\\{1, 3\\}, \\{2\\}, \\{0\\}, \\{0\\}]$$\n",
        "\n",
        "### Graph Prediction Tasks\n",
        "What are the kinds of problems we want to solve on graphs?\n",
        "\n",
        "\n",
        "The tasks fall into roughly three categories:\n",
        "\n",
        "1. **Node Classification**: E.g. what is the topic of a paper given a citation network of papers?\n",
        "2. **Link Prediction / Edge Classification**: E.g. are two people in a social network friends?\n",
        "3. **Graph Classification**: E.g. is this protein molecule (represented as a graph) likely going to be effective?\n",
        "\n",
        "<center><image src=\"https://storage.googleapis.com/dm-educational/assets/graph-nets/graph_tasks.png\" width=\"700px\"></center>\n",
        "\n",
        "*The three main graph learning tasks. Image source: Petar Veličković.*\n",
        "\n",
        "Which examples of graph prediction tasks come to your mind? Which task types do they correspond to?\n",
        "\n",
        "## Graph Neural Networks (GNNs)\n",
        "\n",
        " **Graph Neural Networks (GNNs)** are a class of deep learning models designed to perform tasks on graph-structured data. They operate by propagating information along the edges of the graph, aggregating features from neighboring nodes to generate new node representations. Basic GNNs follow the so-called  **Message Passing (MP) model** which unfolds as follows:\n",
        "\n",
        "\n",
        "1.   **Initialization**: Every node $u\\in \\mathcal{V}$, is assigned an initial vector representation $\\textbf{h}_u^{(0)} = \\textbf{x}_u$.\n",
        "2.  **Message Passing**: The representation $\\mathbf{h}_{u}$ for each node $u \\in \\mathcal{V}$ is then iteratively updated with the information received from its neighbourhood as:\n",
        "$$\n",
        "\\mathbf{h}_{u}^{(t)}=\\text { update }^{(t)}\\left(\\mathbf{h}_{u}^{(t-1)}, \\text { aggregate }^{(t)}\\left(\\left\\{\\mathbf{h}_{v}^{(t-1)} \\mid v \\in N(u)\\right\\}\\right)\\right)\n",
        "$$\n",
        "where $\\text{aggregate}^{(t)}$ and $\\text{update} ^{(t)}$ are arbitrary differentiable functions, and $\\text{aggregate} ^{(t)}$ is a permutation-invariant function (e.g. neural networks) e.g. mean, sum, or max. Note that the t-iteration corresponds to the t-layer of the network.\n",
        "\n",
        "3. **Final representation:** Upon termination, the final node representations will be denoted as $\\mathbf{z}_{u}=\\mathbf{h}_{u}^{(l)}$.\n",
        "\n",
        "\n",
        "![mpnn.png](data:image/png;base64,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)\n",
        "\n",
        "\n",
        "<em style=\"text-align: center;\">Figure 1: The Message Passing model in action. Depiction of how target node $A$ aggregates and combines information its local neighbors. After 3 message passing iterations/layers, the node will have received information from every node in the graph. </em>\n",
        "\n",
        "In this tutorial, we will focus on two fundamental GNN architectures:\n",
        "\n",
        "- **Graph Convolution Networks (GCN)**: Introduced by Kipf and Welling (2017), GCNs apply convolutional operations to graph data, capturing localized information in node neighborhoods.\n",
        "- **Graph Attention Networks (GAT)**: Proposed by Veličković et al. (2018), GATs introduce attention mechanisms to weigh the importance of neighboring nodes during feature aggregation.\n"
      ],
      "metadata": {
        "id": "GTjnP0fXMA80"
      }
    },
    {
      "cell_type": "markdown",
      "source": [
        "\n",
        "## Setup.\n",
        "\n",
        "Throughout this tutorial we will be using the following librairies.\n",
        "\n",
        "* [Pytorch Geometric](https://): Pytorch-based library for developing GNNs.\n",
        "* [Pandas](https://): Python's general purpose data analysis library.\n",
        "* [Matplotlib](https://): Python's general purpose plotting library.  \n",
        "\n",
        "The code cell below installs these libraries and define helper functions. You need not to care about these functions for now."
      ],
      "metadata": {
        "id": "dffqXMpju3lb"
      }
    },
    {
      "cell_type": "code",
      "source": [
        "# Install required packages.\n",
        "import os\n",
        "import torch\n",
        "import torch\n",
        "import torch.nn as nn\n",
        "import torch.nn.functional as F\n",
        "import matplotlib.pyplot as plt\n",
        "os.environ['TORCH'] = torch.__version__\n",
        "print(torch.__version__)\n",
        "\n",
        "!pip install -q torch-scatter -f https://data.pyg.org/whl/torch-${TORCH}.html\n",
        "!pip install -q torch-sparse -f https://data.pyg.org/whl/torch-${TORCH}.html\n",
        "!pip install -q git+https://github.com/pyg-team/pytorch_geometric.git\n",
        "\n",
        "# Helper function to get adjacency matrix.\n",
        "def make_adjacency_matrix(V: int, edge_index: torch.Tensor) -> torch.Tensor:\n",
        "    # Initialize adjacency matrix A: (V, V)\n",
        "    A = torch.zeros((V, V), device=x.device)\n",
        "\n",
        "    # Populate the adjacency matrix\n",
        "    src, dst = edge_index\n",
        "    A[src, dst] = 1\n",
        "    A[dst, src] = 1  # Assuming the graph is undirected\n",
        "    return A"
      ],
      "metadata": {
        "id": "20FZoHBsutTt"
      },
      "execution_count": null,
      "outputs": []
    },
    {
      "cell_type": "markdown",
      "source": [
        "## Task 1: Graph Convolution Network (GCN)."
      ],
      "metadata": {
        "id": "sitb8hO4OlJk"
      }
    },
    {
      "cell_type": "markdown",
      "source": [
        "The **GCN** ([Kipf et al. (2017)](https://arxiv.org/abs/1609.02907)) is one of the most simple Graph Neural Network. It applies a convolutional operations to graph data, capturing localized information in node neighborhoods.\n",
        "\n",
        "A GCN aims to emulate the learning process that a traditional convolutional neural network (CNN) does on images. However, differently from images, the structure of graphs is not constrained to a regular grid, and this prevents the use of traditional convolutional filters.\n",
        "\n",
        "The regularity of grids reflects two properties that are crucial to applying traditional convolutional filters: (i) pixels are ordered, (ii) pixels have fixed-size neighborhoods (each pixel is surrounded by 8 pixels). Because of these properties, the content of images is *invariant* or *equivariant* to translation (shift operation), allowing the shifting of a local convolutional filter (e.g., 3x3) across the different parts of a larger image (e.g., 64x64). Note that a filter performs a weighted sum aggregation over the inputs (pixels) with learnable weights, where each filter input has its own weight.\n",
        "\n",
        "In graphs, there is no ordering of nodes, and the edges determine the size of each node neighborhood. Hence, we cannot learn a weighted sum of the neighbors as such weights depend on the neighbors' order that is not present. Instead, we need to apply a learnable filter invariant to the neighbors' order. The simplest solution is to apply the same weight to all neighbors without learning the aggregation function. In other words, each neighbor contributes equally. This type of convolutional filter identifies GCNs that are *isotropic*.\n",
        "\n",
        "\n",
        "<center><image src=\"https://storage.googleapis.com/dm-educational/assets/graph-nets/cnn_vs_gnn.png\" width=\"400px\"></center>\n",
        "\n",
        "Comparison of CNN and GCN filters.\n",
        "Image source: https://arxiv.org/pdf/1901.00596.pdf\n",
        "\n",
        "### Symmetric Normalization\n",
        "Graph nodes may have different numbers of neighbors/degrees, possibly leading to instabilities during neural network training, e.g., exploding or vanishing gradients. To address that, normalization is a commonly used method. In this case, we will normalize by node degrees.\n",
        "\n",
        "As a first attempt, we could count the number of incoming edges (including self-edge) and divide by that value.\n",
        "\n",
        "More formally, let $A$ be the adjacency matrix defining the edges of the graph.\n",
        "\n",
        "Then we define the degree matrix $D$ as a diagonal matrix with $D_{ii} = \\sum_jA_{ij}$ (the degree of node $i$)\n",
        "\n",
        "\n",
        "Now we can normalize $AH$ by dividing it by the node degrees:\n",
        "$${D}^{-1}AH$$\n",
        "Note that, with this normalization, we are computing the mean over the neighbors' messages.\n",
        "\n",
        "Instead, if we want to compute a more dynamic aggregation than the mere mean, we can take into\n",
        "account both the in and out degrees by computing a *symmetric normalization*, which is also what Kipf and Welling proposed in their [paper](https://arxiv.org/abs/1609.02907):\n",
        "$$D^{-\\frac{1}{2}}AD^{-\\frac{1}{2}}H$$\n",
        "\n",
        "Hence the message passing formula for the GCN is defined as:\n",
        "\n",
        "$$\n",
        "H^{(l+1)} = \\sigma\\left( \\hat{D}^{-\\frac{1}{2}}\\hat{A}\\hat{D}^{-\\frac{1}{2}}H^{(l)}W^{(l)}\\right)\n",
        "$$\n",
        "\n",
        "Where $\\mathbf{W}^{(l)}$ denotes a layer-specific trainable weight matrix, $\\hat{A} = A + I$  is the adjacency matrix augmented with self-loops, $\\hat{D}$ is the degree matrix of the graph augmented with self-loops, $H^{(l)}$ is the matrix of the node activations in the $l^{th}$ layer, and $\\sigma$ is an activation function such as $\\text{ReLu}$.\n",
        "\n",
        "**📝TODO:** Fill in the code below to complete the GCN module implementation.  \n",
        "**❗NB:** Do not to apply the $\\sigma$ activation as this will be done in the network for all but the last layer."
      ],
      "metadata": {
        "id": "h1DXRiSkEq8u"
      }
    },
    {
      "cell_type": "code",
      "source": [
        "class GCN(torch.nn.Module):\n",
        "    def __init__(self, in_channels: int, out_channels: int):\n",
        "        super().__init__()\n",
        "        self.W = torch.nn.Parameter(torch.randn(in_channels, out_channels))\n",
        "        self.out_channels = out_channels\n",
        "\n",
        "    def forward(self, x: torch.Tensor, edge_index: torch.Tensor) -> torch.Tensor:\n",
        "        # x: (V, d) - Node features matrix\n",
        "        V = x.size(0)\n",
        "\n",
        "        # Get adjacency matrix\n",
        "        A = make_adjacency_matrix(V, edge_index)\n",
        "\n",
        "        ### YOUR CODE HERE #######################\n",
        "        # Add self-loops to the adjacency matrix\n",
        "        A_hat = ...\n",
        "\n",
        "        # Compute the degree matrix D: (V, V)\n",
        "        D = ...\n",
        "\n",
        "        # Compute the inverse square root of the degree matrix D^(-1/2): (V, V)\n",
        "        D_inv_sqrt = ...\n",
        "\n",
        "        # Compute the normalized adjacency matrix A_hat_norm: (V, V)\n",
        "        A_hat_norm = ...\n",
        "\n",
        "        # Perform the GCN (aggregate + update) operation\n",
        "        # Do not apply the activation function here\n",
        "        # as it will be done in the network for all but the last layer.\n",
        "        x = ...\n",
        "        ###########################################\n",
        "\n",
        "        return x"
      ],
      "metadata": {
        "id": "h3ltcxv1jeiR"
      },
      "execution_count": null,
      "outputs": []
    },
    {
      "cell_type": "markdown",
      "source": [
        "**📝TODO**: Verify the correctness of your GCN module by comparing its output on a the below input to the expected output."
      ],
      "metadata": {
        "id": "o8Ey3sXR2U8Y"
      }
    },
    {
      "cell_type": "code",
      "source": [
        "# Check that the GCN output is as expected.\n",
        "torch.manual_seed(42)\n",
        "gcn = GCN(in_channels=3, out_channels=2)\n",
        "\n",
        "# x: (V, d) - Example with 5 nodes and 3-dimensional features\n",
        "x = torch.rand(5, 3)\n",
        "\n",
        "# edge_index: (2, E) - Example edges with 4 edges\n",
        "edge_index = torch.tensor([[0, 1, 2, 3], [1, 2, 3, 4]])\n",
        "\n",
        "# H: (V, d') - Output node features matrix after GCN operation\n",
        "H = gcn(x, edge_index)\n",
        "\n",
        "# Expected output:\n",
        "# Shape: (5, 2)\n",
        "# Value: Tensor([\n",
        "#   [-0.3225,  0.1145],\n",
        "#   [-0.2853,  0.1364],\n",
        "#   [-0.3579,  0.0837],\n",
        "#   [-0.3847,  0.0366],\n",
        "#   [-0.4443, -0.0077],\n",
        "# ])\n",
        "print(H)"
      ],
      "metadata": {
        "id": "_tv4AbYo16OI"
      },
      "execution_count": null,
      "outputs": []
    },
    {
      "cell_type": "markdown",
      "source": [
        "## Task 2: Graph Attention Network (GAT)."
      ],
      "metadata": {
        "id": "Vq8aICZJOg-H"
      }
    },
    {
      "cell_type": "markdown",
      "source": [
        "\n",
        "GAT [(Velickovic et al.,  2017)](https://arxiv.org/abs/1710.10903) leverages the attention mechanism [(Bahdanau et al, 2015)](https://arxiv.org/abs/1409.0473) to assign importance to each\n",
        "neighbor, which is used to weigh this neighbor's influence during the aggregation. While the GCN we covered in the previous section can learn meaningful representations, it suffers from the fact that messages from all its neighbors and the node itself are equally weighted -- well, this is not exactly true because of the symmetric normalization. However, the main limitation is that the aggregation weights are **hard-crafted** (division by the in- and out-degree). This may lead to loss of node-specific information. E.g., consider the case when a set of nodes shares the same set of neighbors, and start out with different node features. Then because of averaging, their resulting output features would be the same. Adding self-edges mitigates this issue by a small amount, but this problem is magnified with increasing number of GCN layers and number of edges connecting to a node.\n",
        "\n",
        "In more formal words, the implemented GCN uses *isotropic* learnable filters, while we want\n",
        "*anisotropic* filters as they can catch more complex pattern -- as it happens for traditional convolutional filters on images.\n",
        "\n",
        "GAT allows the network to learn how to weight / assign importance to the node features from the neighborhood when computing the new node features. This is very similar to the idea of using attention in Transformers, which were introduced in [Vaswani et al. (2017)](https://arxiv.org/abs/1706.03762). Indeed,\n",
        "transformers has been shown to be a special case of graph attention networks, where a fully-connected graph structure is assumed (see articles from [Joshi (2020)](https://graphdeeplearning.github.io/files/transformers-are-gnns-slides.pdf) and [Dwivedi et al. (2020)](https://arxiv.org/abs/2012.09699)).\n",
        "\n",
        "\n",
        "GAT's message passing formula is:\n",
        "\n",
        "$$\\mathbf{h}^{\\prime}_i = \\sigma\\left(\\sum_{j \\in \\mathcal{N}(i)}\n",
        "        \\alpha_{i,j}\\mathbf{W}\\mathbf{h}_{j}\\right)\n",
        "$$\n",
        "\n",
        "Where the attention coefficients $(\\alpha_{i,j})_{i,j \\in \\mathcal{V}}$ are computed as:\n",
        "\n",
        "$$\\alpha_{i,j} =\n",
        "    \\frac{\n",
        "    \\exp\\left(\\mathrm{LeakyReLU}\\left(\\mathbf{a}^{\\top}[\n",
        "    \\mathbf{W} \\mathbf{h}_i \\Vert \\mathbf{W} \\mathbf{h}_j]\n",
        "    \\right)\\right)}\n",
        "    {\\sum_{s \\in \\mathcal{N}(i)}\n",
        "    \\exp\\left(\\mathrm{LeakyReLU}\\left(\\mathbf{a}^{\\top}[\n",
        "    \\mathbf{W} \\mathbf{h}_i \\Vert \\mathbf{W} \\mathbf{h}_s\n",
        "    ]\\right)\\right)}\n",
        "$$\n",
        "Here the layer number (usually in superscript) has been ommitted for conciseness.\n",
        "\n",
        "\n",
        "![Screenshot 2024-09-01 233959.png](data:image/png;base64,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)\n",
        "\n",
        "<em style=\"text-align:center\" > Figure 2: **Left**: The attention mechanism $a(\\textbf{W}\\textbf{h}_i, \\textbf{W}\\textbf{h}_j)$ employed by the model, parametrized by a weight vector $\\textbf{a}$, applying a $\\text{LeakyReLU}$ activation. **Right**: An illustration of multihead attention (with K = 3 heads) by node 1 on its neighborhood. Different arrow styles and colors denote independent attention computations. The aggregated features from each head are\n",
        "concatenated or averaged to obtain $\\textbf{h}^{\\prime}_1$\n",
        "\n",
        "Figure Credit: [Velickovic et al. ( 2017)](https://arxiv.org/abs/1710.10903)\n",
        "</em>\n",
        "\n",
        "**Remark:**\n",
        "If we're doing multi-head attention with $K$ heads, the message passing formula is instead:\n",
        "\n",
        "$$\\mathbf{h}^{\\prime}_i = \\underset{k=1}{\\overset{K}{\\big\\Vert}}\\sigma\\left(\\sum_{j \\in \\mathcal{N}(i)}\n",
        "        \\alpha^k_{i,j}\\mathbf{W}^k\\mathbf{h}_{j}\\right)\n",
        "$$\n",
        "Where $(\\alpha^k_{i,j})_{i,j \\in \\mathcal{V}}$ and $\\mathbf{W^k}$ are attention coefficients and weight matrix for head $k$. The former being computed similarly as above. We simply concatenate the representations computed by various attention heads.\n",
        "\n",
        "**📝TODO**: Fill the code below to complete the GAT module implementation.  \n",
        "**❗NB:** Do not to apply the $\\sigma$ activation as this will be done in the network.\n"
      ],
      "metadata": {
        "id": "-WqRkP22Euy6"
      }
    },
    {
      "cell_type": "code",
      "source": [
        "class GAT(torch.nn.Module):\n",
        "    def __init__(self, in_channels: int, out_channels: int, num_heads: int = 1):\n",
        "        super().__init__()\n",
        "        self.num_heads = num_heads\n",
        "        self.W = nn.Parameter(torch.randn(in_channels, out_channels))\n",
        "        self.a = nn.Parameter(torch.randn(2 * out_channels, num_heads))\n",
        "        self.leakyrelu = nn.LeakyReLU(negative_slope=0.2)\n",
        "        self.out_channels = out_channels\n",
        "\n",
        "    def forward(self, x: torch.Tensor, edge_index: torch.Tensor) -> torch.Tensor:\n",
        "        V = x.size(0)\n",
        "\n",
        "        # Get adjacency matrix\n",
        "        A = make_adjacency_matrix(V, edge_index)\n",
        "\n",
        "        # Apply linear transformation to node features\n",
        "        h = ...  # h: (V, d')\n",
        "\n",
        "        ### YOUR CODE HERE #######################\n",
        "        # Add self-loops\n",
        "        A += ...\n",
        "\n",
        "        # Compute attention coefficients\n",
        "        h_repeat_src = h.repeat(1, V).view(V, V, -1) # (V, V, d)\n",
        "        h_repeat_dst = h.repeat(V, 1).view(V, V, -1) # (V, V, d)\n",
        "\n",
        "        # Concatenate features of source and destination nodes\n",
        "        h_concat = ...  # h_concat: (V, V, 2 * d')\n",
        "\n",
        "        # Compute attention scores\n",
        "        e = ...  # e: (V, V, num_heads)\n",
        "\n",
        "        # Apply Leaky ReLu\n",
        "        e = ...\n",
        "\n",
        "        # Mask out non-existent edges by setting the corresponding attention scores to -inf\n",
        "        e = ...\n",
        "\n",
        "        # Apply softmax to compute attention coefficients\n",
        "        alpha = ...  # alpha: (V, V, num_heads)\n",
        "\n",
        "        # Perform message passing\n",
        "        H = ...  # Weighted sum of neighboring features #  (V, H, out_features)\n",
        "\n",
        "        # Combine attention heads by concatenating\n",
        "        H = H.view(V, -1) # H: (V, H*out_features)\n",
        "        ############################################\n",
        "\n",
        "        return H"
      ],
      "metadata": {
        "id": "9z4KgHjtE8RM"
      },
      "execution_count": null,
      "outputs": []
    },
    {
      "cell_type": "markdown",
      "source": [
        "**📝TODO**: Verify the correctness of your GAT module by comparing its output on a the below input to the expected output."
      ],
      "metadata": {
        "id": "ZcqzI88E202v"
      }
    },
    {
      "cell_type": "code",
      "source": [
        "# Check that GAT output is as expected.\n",
        "torch.manual_seed(42)\n",
        "gat = GAT(in_channels=3, out_channels=2, num_heads=4)\n",
        "\n",
        "# x: (V, d) - Example with 5 nodes and 3-dimensional features\n",
        "x = torch.rand(5, 3)\n",
        "\n",
        "# edge_index: (2, E) - Example edges with 4 edges\n",
        "edge_index = torch.tensor([[0, 1, 2, 3], [1, 2, 3, 4]])\n",
        "\n",
        "# H: (V, d') - Output node features matrix after GAT operation\n",
        "H = gat(x, edge_index)\n",
        "\n",
        "# Expected output:\n",
        "# Shape: (B=5, 8=2*4=out_channels*num_heads)\n",
        "# Value: Tensor([\n",
        "#  [-0.6249,  0.0123, -0.5971,  0.0250, -0.6327,  0.0088, -0.6689, -0.0077],\n",
        "#  [-0.5225,  0.0526, -0.5014,  0.0618, -0.5300,  0.0494, -0.5697,  0.0321],\n",
        "#  [-0.1674,  0.1469, -0.2094,  0.1405, -0.2003,  0.1419, -0.2681,  0.1314],\n",
        "#  [-0.1829,  0.1303, -0.2417,  0.1173, -0.2394,  0.1180, -0.2950,  0.1051],\n",
        "#  [-0.1363,  0.1304, -0.1640,  0.1230, -0.1547,  0.1255, -0.2611,  0.0970]],\n",
        "# ])\n",
        "print(H)"
      ],
      "metadata": {
        "id": "doepoGaE2Hxp"
      },
      "execution_count": null,
      "outputs": []
    },
    {
      "cell_type": "markdown",
      "source": [
        "## Task 3: Efficient GCN implementation with PyTorch Geometric utilities."
      ],
      "metadata": {
        "id": "Bnt21tSzie8H"
      }
    },
    {
      "cell_type": "markdown",
      "source": [
        "**📝TODO:** Examine the GCN efficient implementation below and compare with your own implementations above and note how the main difference is its use of sparse matrix operations."
      ],
      "metadata": {
        "id": "Aqi77YRlAduW"
      }
    },
    {
      "cell_type": "code",
      "source": [
        "import torch\n",
        "\n",
        "from torch_geometric.nn import GATConv\n",
        "from torch_geometric.nn.conv import MessagePassing\n",
        "from torch_geometric.utils import add_remaining_self_loops\n",
        "from torch_geometric.utils import scatter, spmm, softmax\n",
        "\n",
        "class GCNConv(MessagePassing):\n",
        "    def __init__(\n",
        "        self,\n",
        "        in_channels: int,\n",
        "        out_channels: int,\n",
        "    ):\n",
        "        super().__init__()\n",
        "        self.in_channels = in_channels\n",
        "        self.out_channels = out_channels\n",
        "        self.W = torch.nn.Parameter(torch.randn(in_channels, out_channels))\n",
        "\n",
        "    def forward(self, x: torch.Tensor, edge_index: torch.Tensor) -> torch.Tensor:\n",
        "          num_nodes = x.size(0)\n",
        "          edge_index, _ = add_remaining_self_loops(edge_index)\n",
        "          ### Take a look here. ################\n",
        "          edge_weight = torch.ones((edge_index.size(1),), dtype=x.dtype, device=edge_index.device)\n",
        "          source_idx, target_idx = edge_index[0], edge_index[1]\n",
        "          deg = scatter(edge_weight, target_idx, dim=0, dim_size=num_nodes, reduce='sum')\n",
        "          deg_inv_sqrt = deg.diag().pow_(-.5).diag()\n",
        "          edge_weight = deg_inv_sqrt[source_idx] * edge_weight * deg_inv_sqrt[target_idx]\n",
        "          x = x @ self.W\n",
        "          #############################################\n",
        "          out = self.propagate(edge_index, x=x, edge_weight=edge_weight)\n",
        "          return out\n",
        "\n",
        "    def message_and_aggregate(self, adj_t: torch.Tensor, x: torch.Tensor) -> torch.Tensor:\n",
        "        return spmm(adj_t, x, reduce='add')"
      ],
      "metadata": {
        "id": "frG9KxoTidbG"
      },
      "execution_count": null,
      "outputs": []
    },
    {
      "cell_type": "code",
      "source": [
        "import torch\n",
        "\n",
        "class Net(torch.nn.Module):\n",
        "    def __init__(\n",
        "        self,\n",
        "        layers: list[torch.nn.Module],\n",
        "        out_channels: int,\n",
        "        activation = torch.nn.functional.sigmoid,\n",
        "      ):\n",
        "        super().__init__()\n",
        "        torch.manual_seed(1234)\n",
        "        self._layers = torch.nn.ModuleList(layers)\n",
        "        self._classifier = torch.nn.Linear(self._layers[-1].out_channels, out_channels)\n",
        "\n",
        "    def forward(self, x, edge_index):\n",
        "        # Apply all but last layer followed by activation.\n",
        "        h = x\n",
        "        for layer in self._layers[:-1]:\n",
        "          h = layer(h, edge_index)\n",
        "          h = torch.sigmoid(h)\n",
        "        # Apply last layer.\n",
        "        h = self._layers[-1](h, edge_index)\n",
        "        # Apply a final (linear) classifier.\n",
        "        out = self._classifier(h)\n",
        "        return out"
      ],
      "metadata": {
        "id": "rNGRukR1E7xU"
      },
      "execution_count": null,
      "outputs": []
    },
    {
      "cell_type": "markdown",
      "source": [
        "## Task 4: Node classification on the Cora dataset.\n"
      ],
      "metadata": {
        "id": "jqgoLMQIFA3F"
      }
    },
    {
      "cell_type": "markdown",
      "source": [
        "\n",
        "**📝TODOS**\n",
        "1. Read through the cora dataset overview.\n",
        "2. Read through the training & evalution script.\n",
        "3. Fill in the code to complete the MLP, GCN and GAT networks.\n",
        "4. Run the training and evalution script and visualize the learning curve (training loss) and evaluation accuracy."
      ],
      "metadata": {
        "id": "JvvTiyAEUqXI"
      }
    },
    {
      "cell_type": "markdown",
      "source": [
        "### Cora dataset Overview.\n",
        "The Cora dataset is a citation network of 2,708 machine-learning papers, organized into seven distinct classes. These papers are interlinked by 5,429 citations, forming a directed graph that maps out how papers cite each other. Each paper is represented by a binary word vector, derived from a dictionary of 1,433 unique words, indicating the presence or absence of specific words in the paper.\n",
        "\n",
        "#### Features and Labels\n",
        "Each paper in the Cora dataset is described by a binary word vector, which serves as the feature set for the dataset. The presence (1) or absence (0) of each word from a dictionary of 1,433 unique words is recorded in this vector. This high-dimensional feature space captures the content of each paper, enabling detailed analysis and classification.\n",
        "\n",
        "The labels in the Cora dataset correspond to the seven classes of machine learning topics:\n",
        "\n",
        "- Case Based\n",
        "- Genetic Algorithms\n",
        "- Neural Networks\n",
        "- Probabilistic Methods\n",
        "- Reinforcement Learning\n",
        "- Rule Learning\n",
        "- Theory\n",
        "\n",
        "\n",
        "These labels provide a categorical classification for each paper, which is used as the target variable in various machine learning tasks.\n",
        "\n",
        "### How Graphs are represented in Pytorch Geometric.\n",
        "\n",
        "We will be loading the Cora datasets from Pytorch Geometric's `datasets` subpackage.\n",
        "\n",
        "A Pytorch Geometric Dataset consist of a list `torch_geometric.data.Data` objects, each representing a Graph, and holding the following attributes by default:\n",
        "\n",
        "- `data.x`: Node feature matrix with shape `[num_nodes, num_node_features]`\n",
        "\n",
        "- `data.edge_index`: Graph connectivity in COO format with shape `[2, num_edges]` and type `torch.long`\n",
        "\n",
        "- `data.y`: Target to train against (may have arbitrary shape), e.g., node-level targets of shape `[num_nodes, *]` or graph-level targets of shape `[1, *]`\n",
        "\n",
        "- `data.edge_attr`: Edge feature matrix with shape `[num_edges, num_edge_features]`\n",
        "\n",
        "\n",
        "\n",
        "- `data.pos`: Node position matrix with shape `[num_nodes, num_dimensions]`\n",
        "\n",
        "None of these attributes are required. In fact, the Data object is not even restricted to these attributes. You can read more [here](https://pytorch-geometric.readthedocs.io/en/latest/get_started/introduction.html#data-handling-of-graphs)."
      ],
      "metadata": {
        "id": "oJ8Vq7qkVEUg"
      }
    },
    {
      "cell_type": "markdown",
      "source": [
        "### Loading the Cora Dataset from Pytorch Geometric."
      ],
      "metadata": {
        "id": "Uky2stQE52ug"
      }
    },
    {
      "cell_type": "code",
      "source": [
        "from torch_geometric.datasets import Planetoid\n",
        "\n",
        "dataset = Planetoid(root='/tmp/Cora', name='Cora')\n",
        "\n",
        "data = dataset[0]\n",
        "print()\n",
        "print(data)\n",
        "print('===============================================================================================================')\n",
        "\n",
        "# Gather some statistics about the graph.\n",
        "print(f'Number of nodes: {data.num_nodes}')\n",
        "print(f'Number of edges: {data.num_edges}')\n",
        "print(f'Average node degree: {data.num_edges / data.num_nodes:.2f}')\n",
        "print(f'Number of training nodes: {data.train_mask.sum()}')\n",
        "print(f'Training node label rate: {int(data.train_mask.sum()) / data.num_nodes:.3f}')\n",
        "print(f'Has isolated nodes: {data.has_isolated_nodes()}')\n",
        "print(f'Has self-loops: {data.has_self_loops()}')\n",
        "print(f'Is undirected: {data.is_undirected()}')\n"
      ],
      "metadata": {
        "id": "CErZ6B9lF7j7"
      },
      "execution_count": null,
      "outputs": []
    },
    {
      "cell_type": "markdown",
      "source": [
        "### Training & Evaluation"
      ],
      "metadata": {
        "id": "gc52tidkFIuU"
      }
    },
    {
      "cell_type": "code",
      "source": [
        "import dataclasses\n",
        "import torch\n",
        "import torch.nn.functional as F\n",
        "import pandas as pd\n",
        "from tqdm import tqdm\n",
        "\n",
        "\n",
        "@dataclasses.dataclass(frozen=True)\n",
        "class StepRecord:\n",
        "  step: int\n",
        "  train_loss: float\n",
        "  eval_acc: float | None\n",
        "\n",
        "  def to_dict(self) -> dict:\n",
        "    return dataclasses.asdict(self)\n",
        "\n",
        "def train(\n",
        "    model: torch.nn.Module,\n",
        "    data,\n",
        "    num_steps: int,\n",
        "    lr: float,\n",
        "    weight_decay: float,\n",
        "  ) -> list[StepRecord]:\n",
        "  device = torch.device('cuda' if torch.cuda.is_available() else 'cpu')\n",
        "  model = model.to(device)\n",
        "  data = data.to(device)\n",
        "  optimizer = torch.optim.Adam(model.parameters(), lr=lr, weight_decay=weight_decay)\n",
        "  loss_fn = torch.nn.CrossEntropyLoss()\n",
        "\n",
        "  # Evaluation function.\n",
        "  def eval() -> float:\n",
        "      \"\"\"Returns accuracy.\"\"\"\n",
        "      model.eval()\n",
        "      out = model(data.x, data.edge_index)\n",
        "      pred = out.argmax(dim=1)\n",
        "      correct = (pred[data.test_mask] == data.y[data.test_mask]).sum()\n",
        "      accuracy = correct / data.test_mask.sum()\n",
        "      return accuracy.item()\n",
        "\n",
        "\n",
        "  # Train function.\n",
        "  def train_step() -> float:\n",
        "      \"\"\"Optimization step returns loss.\"\"\"\n",
        "      model.train()\n",
        "      optimizer.zero_grad()\n",
        "      out = model(data.x, data.edge_index)\n",
        "      loss = loss_fn(out[data.train_mask], data.y[data.train_mask])\n",
        "      loss.backward()\n",
        "      optimizer.step()\n",
        "      return loss.item()\n",
        "\n",
        "  # Training & Evaluation loop.\n",
        "  step_records = []\n",
        "  for step in tqdm(range(1, num_steps+1)):\n",
        "      train_loss = train_step()\n",
        "      eval_acc = eval()\n",
        "      step_record = StepRecord(\n",
        "        step=step,\n",
        "        train_loss=train_loss,\n",
        "        eval_acc=eval_acc,\n",
        "      )\n",
        "      step_records.append(step_record)\n",
        "\n",
        "  return step_records"
      ],
      "metadata": {
        "id": "D8oXzdM9FT-z"
      },
      "execution_count": null,
      "outputs": []
    },
    {
      "cell_type": "code",
      "source": [
        "# Linear layer with pyg interface.\n",
        "class Linear(torch.nn.Module):\n",
        "    def __init__(self, in_channels: int, out_channels: int):\n",
        "      super().__init__()\n",
        "      self.out_channels = out_channels\n",
        "      self.weight = torch.nn.Parameter(torch.randn(in_channels, out_channels))\n",
        "\n",
        "    def forward(self, x: torch.Tensor, edge_index: torch.Tensor) -> torch.Tensor:\n",
        "        del edge_index\n",
        "        return x @ self.weight"
      ],
      "metadata": {
        "id": "K-faZ0LuCguH"
      },
      "execution_count": null,
      "outputs": []
    },
    {
      "cell_type": "code",
      "source": [
        "# Define the networks, train & evaluate them.\n",
        "mlp = Net(\n",
        "    layers=[\n",
        "        Linear(1433, 4),\n",
        "        Linear(4, 4),\n",
        "    ],\n",
        "    out_channels=7,\n",
        ")\n",
        "gcn = Net(\n",
        "    layers=[\n",
        "        GCNConv(1433, 4),\n",
        "        GCNConv(4, 4),\n",
        "    ],\n",
        "    out_channels=7,\n",
        ")\n",
        "gat = Net(\n",
        "    layers=[\n",
        "        GATConv(1433, 4, heads=1),\n",
        "        GATConv(4, 4, heads=1),\n",
        "    ],\n",
        "    out_channels=7,\n",
        ")\n",
        "mlp_step_records = train(mlp, dataset[0], 400, 0.01, 5e-4)\n",
        "gcn_step_records = train(gcn, dataset[0], 400, 0.01, 5e-4)\n",
        "gat_step_records = train(gat, dataset[0], 400, 0.01, 5e-4)"
      ],
      "metadata": {
        "id": "8AKWOM0anVQy"
      },
      "execution_count": null,
      "outputs": []
    },
    {
      "cell_type": "code",
      "source": [
        "# Plot results.\n",
        "mlp_step_df = pd.DataFrame([sr.to_dict() for sr in mlp_step_records]).set_index('step')\n",
        "gcn_step_df = pd.DataFrame([sr.to_dict() for sr in gcn_step_records]).set_index('step')\n",
        "gat_step_df = pd.DataFrame([sr.to_dict() for sr in gat_step_records]).set_index('step')\n",
        "\n",
        "mlp_step_df.rename(columns=lambda colname: f'{colname}_MLP', inplace=True)\n",
        "gcn_step_df.rename(columns=lambda colname: f'{colname}_GCN', inplace=True)\n",
        "gat_step_df.rename(columns=lambda colname: f'{colname}_GAT', inplace=True)\n",
        "\n",
        "step_df = gcn_step_df.merge(\n",
        "    gat_step_df,\n",
        "    on='step',\n",
        "    how='inner'\n",
        ").merge(\n",
        "    mlp_step_df,\n",
        "    on='step',\n",
        "    how='inner'\n",
        ")\n",
        "import matplotlib.pyplot as plt\n",
        "fig, axes = plt.subplots(ncols=2, figsize=(12,6))\n",
        "step_df.plot(use_index=True, y=['train_loss_MLP', 'train_loss_GCN', 'train_loss_GAT'], title='Training Loss', ax=axes[0])\n",
        "step_df.plot(use_index=True, y=['eval_acc_MLP', 'eval_acc_GCN', 'eval_acc_GAT'], title='Evaluation Accuracy', ax=axes[1])"
      ],
      "metadata": {
        "id": "80Gg7rMOfOmz"
      },
      "execution_count": null,
      "outputs": []
    },
    {
      "cell_type": "markdown",
      "source": [
        "### Analysis\n",
        "**📝TODO**\n",
        "1. Using the default parameters how does the MLP perform compared to GCN and GAT? Answer both in terms of training loss and evaluation accuracy.\n",
        "2. Why do you think the MLP is substantially worse ?\n",
        "3. [Optional] How does the number of attention heads used in GAT affect the training loss and evaluation accuracy? Give two plausible explanations?"
      ],
      "metadata": {
        "id": "qawy5fteVnLv"
      }
    }
  ]
}
