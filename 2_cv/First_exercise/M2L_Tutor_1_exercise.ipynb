{
  "cells": [
    {
      "cell_type": "markdown",
      "metadata": {
        "id": "NnrqarW16-6M"
      },
      "source": [
        "# Tutor 1: Image classification with Convolutional Neural Networks (CNN)"
      ]
    },
    {
      "cell_type": "markdown",
      "metadata": {
        "id": "mi1mlHa67MlB"
      },
      "source": [
        "## Introduction"
      ]
    },
    {
      "cell_type": "markdown",
      "metadata": {
        "id": "e_c_BOfd7TE7"
      },
      "source": [
        "Image classification is the task that associates each image with a proper class. The output is a vector of c elements where c is the number of classes of the specific task. Each element of the vector represents the probability that the input of the CNN belongs to the corresponding class. The highest value of the output vector indicates which is the class associated with the input. In the following image, there is an example taken from the EUROSAT Dataset to show a possible relationship between an image and a class."
      ]
    },
    {
      "cell_type": "markdown",
      "metadata": {
        "id": "6h38M1WrXN4f"
      },
      "source": [
        "## Install and imports"
      ]
    },
    {
      "cell_type": "code",
      "execution_count": null,
      "metadata": {
        "colab": {
          "base_uri": "https://localhost:8080/"
        },
        "id": "_0P2JWaB5-wu",
        "outputId": "9631152c-193f-4718-8408-c5b20f71ab94"
      },
      "outputs": [],
      "source": [
        "%pip install torchmetrics\n",
        "# %pip install numpy==1.24.1\n"
      ]
    },
    {
      "cell_type": "code",
      "execution_count": null,
      "metadata": {
        "id": "CiEBs6iCY8Eq"
      },
      "outputs": [],
      "source": [
        "import numpy as np\n",
        "import pandas as pd\n",
        "import os\n",
        "from os.path import join\n",
        "import glob\n",
        "from sklearn.model_selection import StratifiedShuffleSplit\n",
        "from PIL import Image\n",
        "import random\n",
        "from tqdm import tqdm\n",
        "\n",
        "\n",
        "from collections import Counter, OrderedDict\n",
        "import matplotlib.pyplot as plt\n",
        "\n",
        "import torch\n",
        "from torch import nn\n",
        "\n",
        "from torchsummary import summary\n",
        "import torch.optim as optim\n",
        "import torch.utils.data as data\n",
        "\n",
        "import torchvision\n",
        "import torchvision.transforms as T\n",
        "\n",
        "from torchmetrics import Accuracy"
      ]
    },
    {
      "cell_type": "markdown",
      "metadata": {
        "id": "QNZeaRrmZaDM"
      },
      "source": [
        "## Dataset loading and splitting"
      ]
    },
    {
      "cell_type": "markdown",
      "metadata": {
        "id": "R2LSyGOWZoTG"
      },
      "source": [
        "The dataset used in this exercise is the EUROSAT (https://www.kaggle.com/datasets/apollo2506/eurosat-dataset). The dataset contains aerial images labeled with the 10 following classes:\n",
        "\n",
        "* Annual Crop\n",
        "* Forest\n",
        "* Herbaceous Vegetation\n",
        "* Highway\n",
        "* Industrial\n",
        "* Pasture\n",
        "* Permanent Crop\n",
        "* Residential\n",
        "* River\n",
        "* SeaLake\n"
      ]
    },
    {
      "cell_type": "markdown",
      "metadata": {
        "id": "NV-Utm6-a9YV"
      },
      "source": [
        "### Analisys and splitting of the dataset"
      ]
    },
    {
      "cell_type": "markdown",
      "metadata": {
        "id": "7S-P8r0uq39t"
      },
      "source": [
        "In the following section, we will understand how to split the data in train, validation and test sets keeping a similar class distribution between the different sets.\n",
        "\n",
        "1.   A list of all the file names and paths of the dataset will be obtained using the glob function.\n",
        "2.   The list will be shuffled to properly split the dataset and divided into train, validation and test sets with a percentage of 0.7, 0.15, 0.15.\n",
        "3. Three txt files will be created for train, validation and test respectively including the path of the files contained in the corresponding three sets.\n",
        "4. The class distribution for each set will be shown"
      ]
    },
    {
      "cell_type": "markdown",
      "metadata": {},
      "source": [
        "Download the dataset"
      ]
    },
    {
      "cell_type": "code",
      "execution_count": null,
      "metadata": {},
      "outputs": [],
      "source": [
        "import ssl\n",
        "ssl._create_default_https_context = ssl._create_unverified_context\n",
        "\n",
        "torchvision.datasets.EuroSAT(root=\"./\", download=True)"
      ]
    },
    {
      "cell_type": "code",
      "execution_count": null,
      "metadata": {
        "colab": {
          "base_uri": "https://localhost:8080/",
          "height": 219
        },
        "id": "A91HYoZVZV8A",
        "outputId": "ddcf0e8f-531c-4541-a7f3-3f300de39d11"
      },
      "outputs": [],
      "source": [
        "def create_txt(path, name_list):\n",
        "  file = open(path, 'w')\n",
        "  for item in name_list:\n",
        "    file.write(item + \"\\n\")\n",
        "  file.close()\n",
        "\n",
        "def plot_distribution(data, mode='train'):\n",
        "  # Plot distribution train and test\n",
        "  names = list(data.keys())\n",
        "  values = list(data.values())\n",
        "\n",
        "  plt.bar(range(len(data)), values, tick_label=names)\n",
        "  plt.title(mode)\n",
        "  plt.xticks(rotation=45, ha=\"right\")\n",
        "  plt.show()\n",
        "\n",
        "# Function to show the distribution of classes after the splitting of the dataset\n",
        "def show_distribution(files, mode='Train'):\n",
        "  labels = []\n",
        "  for f in files:\n",
        "    labels.append(f.split('/')[0])\n",
        "\n",
        "  labels_count = Counter(labels)\n",
        "  stats = OrderedDict(sorted(labels_count.items()))\n",
        "\n",
        "  plot_distribution(stats, mode=mode)\n",
        "\n",
        "random.seed(123)\n",
        "\n",
        "dataset_path = './eurosat/2750'\n",
        "\n",
        "labels_list = os.listdir(dataset_path)\n",
        "print(labels_list)\n",
        "\n",
        "image_filenames = ['/'.join(x.replace(\"\\\\\", \"/\").split(\"/\")[-2:]) for x in glob.glob(join(dataset_path , '*/*.*')) if x.endswith(\"jpg\")]\n",
        "# print(image_filenames)\n",
        "random.shuffle(image_filenames)\n",
        "\n",
        "perc = 0.7\n",
        "train_files = image_filenames[:int(np.round(len(image_filenames)*perc))]\n",
        "val_files = image_filenames[int(np.round(len(image_filenames)*perc)):int(np.round(len(image_filenames)*perc)+np.round(len(image_filenames)*((1-perc)/2)))]\n",
        "test_files = image_filenames[int(np.round(len(image_filenames)*perc)+np.round(len(image_filenames)*((1-perc)/2))):]\n",
        "\n",
        "# Create train and test\n",
        "create_txt(join(dataset_path, 'train_list.txt'), train_files)\n",
        "create_txt(join(dataset_path, 'val_list.txt'), val_files)\n",
        "create_txt(join(dataset_path, 'test_list.txt'), test_files)\n",
        "\n",
        "# Show label distributions\n",
        "show_distribution(train_files, mode='Train')\n",
        "show_distribution(val_files, mode='Validation')\n",
        "show_distribution(test_files, mode='Test')\n"
      ]
    },
    {
      "cell_type": "markdown",
      "metadata": {
        "id": "awyAUheVB69r"
      },
      "source": [
        "## Dataset Class"
      ]
    },
    {
      "cell_type": "markdown",
      "metadata": {
        "id": "EpAFKE89gYAk"
      },
      "source": [
        "Definition of a custom dataset class in pytorch that is used to create the different train, validation and test sets, defining how we will access the data and create the batches during training. To create a custom dataset in pytorch it is necessary to create a new class which __inherits the class Dataset__ from torch.utils.data. Then it is necessary to create at least __3 functions__:\n",
        "\n",
        "1.   __\\_\\_init____: to establish the attributes of the dataset. In this case, we will use the following information:\n",
        "  - path of the folder that contains the path of our image files\n",
        "  - list of names of our labels\n",
        "  - transformation applied to each image to become inputs of the network (also used for the data augmentation)\n",
        "\n",
        "2.   __\\_\\_getitem____: the function that accesses and returns the couple of image and label elements after the application of the data augmentation\n",
        "\n",
        "3. __\\_\\_len____: it returns the length of our set\n",
        "\n"
      ]
    },
    {
      "cell_type": "code",
      "execution_count": null,
      "metadata": {
        "id": "OkNiHKNhgfZw"
      },
      "outputs": [],
      "source": [
        "class EuroSAT_dataset(data.Dataset):\n",
        "    def __init__(self, root_path, name_list, transforms=None):\n",
        "        super().__init__()\n",
        "\n",
        "        # create an attribute that includes the path of all the images of the dataset, including the name of the files\n",
        "        self.root_path = root_path\n",
        "        self.image_filenames = open(join(root_path, name_list)).read().split('\\n')[:-1]\n",
        "\n",
        "        # create an attribute that includes the list of labels\n",
        "        self.labels_list = [x for x in os.listdir(root_path) if os.path.isdir(join(root_path, x))] # labels name\n",
        "        self.transforms = transforms\n",
        "\n",
        "    def __getitem__(self, index):\n",
        "        ######################\n",
        "        # YOUR CODE HERE\n",
        "\n",
        "        # Open the input image and get the corresponent target index using the image path and the labels_list\n",
        "\n",
        "        ######################\n",
        "        # YOUR CODE HERE\n",
        "        # Apply the transformations on the input\n",
        "\n",
        "        return input, target\n",
        "\n",
        "    def __len__(self):\n",
        "        return len(self.image_filenames)"
      ]
    },
    {
      "cell_type": "markdown",
      "metadata": {
        "id": "DjCiCZVegUIG"
      },
      "source": [
        "## Network"
      ]
    },
    {
      "cell_type": "markdown",
      "metadata": {
        "id": "huRzPitwlk2-"
      },
      "source": [
        "Typically, a convolutional neural network for classification can be divided into two parts:\n",
        "\n",
        "1.   Convolutional part that takes in input the image and extracts feature maps at each layer optimizing the weights of the convolution.\n",
        "2.   A fully connected part that directly follows the convolutional part. The input is the flattened version of the features extracted from the first part. The output is the vector that represents the probability of the input to belong to a class.\n",
        "\n"
      ]
    },
    {
      "cell_type": "markdown",
      "metadata": {
        "id": "qm0Iq34iuebQ"
      },
      "source": [
        "![Example-of-a-CNN-for-image-classification.png](data:image/png;base64,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)"
      ]
    },
    {
      "cell_type": "markdown",
      "metadata": {
        "id": "2mDPSDI1ugOM"
      },
      "source": [
        "Example of CNN for Image Classification (image from Accelerometer-Based Human Fall Detection Using Convolutional Neural Networks - Scientific Figure on ResearchGate. Available from: https://www.researchgate.net/figure/Example-of-a-CNN-for-image-classification_fig1_332284670)"
      ]
    },
    {
      "cell_type": "code",
      "execution_count": null,
      "metadata": {
        "id": "vmRN0wMvId0E"
      },
      "outputs": [],
      "source": [
        "class ConvNet(nn.Module):\n",
        "  def __init__(self, in_channels, n_classes, drop_p=0.2):\n",
        "    super().__init__()\n",
        "\n",
        "    ######################\n",
        "    # YOUR CODE HERE\n",
        "\n",
        "    # Convolutional layers\n",
        "    # This part of the network will be composed of 4 blocks with similar structure:\n",
        "      # a 2D convolutional layer\n",
        "      # a ReLU activation function\n",
        "      # a MaxPooling\n",
        "      # a Dropout\n",
        "\n",
        "    # First block\n",
        "    # the 2D convolutional layer will have out_channels=32, kernel_size=5, no padding and stride=1\n",
        "    # MaxPooling with kernel_size=2\n",
        "\n",
        "    # Second block\n",
        "    # the 2D convolutional layer will have out_channels=64, kernel_size=3, no padding and stride=1\n",
        "    # MaxPooling with kernel_size=2\n",
        "\n",
        "    # Third block\n",
        "    # the 2D convolutional layer will have out_channels=16, kernel_size=3, no padding and stride=1\n",
        "    # MaxPooling with kernel_size=2\n",
        "\n",
        "    # Fourth block\n",
        "    # the 2D convolutional layer will have out_channels=8, kernel_size=3, no padding and stride=1\n",
        "    # MaxPooling with kernel_size=2\n",
        "\n",
        "    ######################\n",
        "    # YOUR CODE HERE\n",
        "\n",
        "    # Fully Connected layers\n",
        "    # This part of the network will consist of 3 blocks:\n",
        "    # a Fully Connected layer\n",
        "    # a ReLU activation function\n",
        "    # a Dropout\n",
        "\n",
        "    # First Block\n",
        "    # the fully connected layer will have an in_features equal to the product of the dimensions\n",
        "    #  of the output of the last concolutional block and out_features=512\n",
        "\n",
        "\n",
        "    # Second Block\n",
        "    # the fully connected layer will have out_features=128\n",
        "\n",
        "\n",
        "    # Third Block\n",
        "    # the fully connected layer will have out_features=32\n",
        "\n",
        "\n",
        "    # Prediction layer\n",
        "    self.out = nn.Linear(in_features=32, out_features=n_classes)\n",
        "\n",
        "\n",
        "  def forward(self, x):\n",
        "    # Convolutions\n",
        "    x = self.drop1(self.pool1(self.relu1(self.conv1(x))))\n",
        "    x = self.drop2(self.pool2(self.relu2(self.conv2(x))))\n",
        "    x = self.drop3(self.pool3(self.relu3(self.conv3(x))))\n",
        "    x = self.drop4(self.pool4(self.relu4(self.conv4(x))))\n",
        "\n",
        "    # Flatten and fully connected\n",
        "    x = x.flatten(1) # from dimension 1\n",
        "\n",
        "    x = self.drop_fc1(self.relu_fc1(self.fc1(x)))\n",
        "    x = self.drop_fc2(self.relu_fc2(self.fc2(x)))\n",
        "    x = self.drop_fc3(self.relu_fc3(self.fc3(x)))\n",
        "\n",
        "    x = self.out(x)\n",
        "\n",
        "    return x\n"
      ]
    },
    {
      "cell_type": "markdown",
      "metadata": {
        "id": "AC5HWTfUhBO0"
      },
      "source": [
        "## Training and Validation loop"
      ]
    },
    {
      "cell_type": "code",
      "execution_count": null,
      "metadata": {
        "id": "m42SaQR1H3fq"
      },
      "outputs": [],
      "source": [
        "def train(net, train_loader, val_loader, conf_train):\n",
        "\n",
        "    device = conf_train['device']\n",
        "    epochs = conf_train['epochs']\n",
        "    loss_function = conf_train['loss_function'].to(device)\n",
        "    train_metric_function = conf_train['metric_function'].to(device)\n",
        "    val_metric_function = train_metric_function.clone()\n",
        "    optimizer = conf_train['optimizer']\n",
        "\n",
        "    net.to(device)\n",
        "\n",
        "    # Needed Variables\n",
        "    epochs_train_losses = []\n",
        "    epochs_val_losses = []\n",
        "\n",
        "    epochs_train_metrics = []\n",
        "    epochs_val_metrics = []\n",
        "\n",
        "    epochs_train_metrics = []\n",
        "\n",
        "    with tqdm(range(epochs)) as progress:\n",
        "      for epoch in progress:\n",
        "        # train epoch\n",
        "        batch_train_losses = []\n",
        "        batch_val_losses = []\n",
        "\n",
        "        for i, batch in enumerate(train_loader):\n",
        "          im, gt = batch\n",
        "\n",
        "          im = im.to(device)\n",
        "          gt = gt.to(device)\n",
        "\n",
        "          ######################\n",
        "          # YOUR CODE HERE\n",
        "          # get the prediction from the model\n",
        "\n",
        "          ######################\n",
        "          # YOUR CODE HERE\n",
        "          # compute train loss\n",
        "\n",
        "          # compute train accuracy\n",
        "          train_metric_function.update(pred, gt)\n",
        "\n",
        "          ######################\n",
        "          # YOUR CODE HERE\n",
        "          # Apply all the steps for the update of the weights\n",
        "          # reset the grads\n",
        "          # compute the backward\n",
        "          # apply the step\n",
        "\n",
        "          batch_train_losses.append(loss.detach().to('cpu'))\n",
        "\n",
        "        epochs_train_losses.append(np.mean(batch_train_losses))\n",
        "        epochs_train_metrics.append(train_metric_function.compute().to('cpu'))\n",
        "\n",
        "        # reset the metric function\n",
        "        train_metric_function.reset()\n",
        "\n",
        "        # Validation loop\n",
        "        with torch.no_grad():\n",
        "          for i, batch in enumerate(val_loader):\n",
        "            im, gt = batch\n",
        "\n",
        "            im = im.to(device)\n",
        "            gt = gt.to(device)\n",
        "\n",
        "            ######################\n",
        "            # YOUR CODE HERE\n",
        "            # get the prediction from the model\n",
        "\n",
        "            ######################\n",
        "            # YOUR CODE HERE\n",
        "            # compute val loss\n",
        "\n",
        "            # compute validation metrics\n",
        "            val_metric_function.update(pred, gt)\n",
        "\n",
        "          epochs_val_losses.append(np.mean(batch_val_losses))\n",
        "          epochs_val_metrics.append(val_metric_function.compute().to('cpu'))\n",
        "          val_metric_function.reset()\n",
        "\n",
        "        progress.set_postfix({'train_loss': np.round(epochs_train_losses[-1],2),\n",
        "                              'train_acc': np.round(epochs_train_metrics[-1],2),\n",
        "                              'validation_loss': np.round(epochs_val_losses[-1],2),\n",
        "                              'validation_acc': np.round(epochs_val_metrics[-1],2),})\n",
        "\n",
        "    losses = {\n",
        "              'train_losses' : epochs_train_losses,\n",
        "              'val_losses': epochs_val_losses,\n",
        "              }\n",
        "\n",
        "    metrics = {\n",
        "          'train_metrics' : epochs_train_metrics,\n",
        "          'val_metrics': epochs_val_metrics,\n",
        "          }\n",
        "\n",
        "\n",
        "    return net, losses, metrics"
      ]
    },
    {
      "cell_type": "markdown",
      "metadata": {
        "id": "avllGj8ohHHq"
      },
      "source": [
        "## Test loop"
      ]
    },
    {
      "cell_type": "code",
      "execution_count": null,
      "metadata": {
        "id": "E3CbjtbshGXS"
      },
      "outputs": [],
      "source": [
        "def test(net, test_loader, conf_test):\n",
        "  device = conf_test['device']\n",
        "  metric_function = conf_test['metric_function'].to(device)\n",
        "  net.to(device)\n",
        "\n",
        "\n",
        "  ######################\n",
        "  # YOUR CODE HERE\n",
        "\n",
        "  # Define the test loop returning the metrics\n",
        "\n",
        "  return metric\n"
      ]
    },
    {
      "cell_type": "markdown",
      "metadata": {
        "id": "toJrAC-KID0v"
      },
      "source": [
        "## Train of the network"
      ]
    },
    {
      "cell_type": "markdown",
      "metadata": {
        "id": "B714wHcNYbXh"
      },
      "source": [
        "### Initialization of the train, validation and test sets and dataloaders"
      ]
    },
    {
      "cell_type": "markdown",
      "metadata": {
        "id": "KRH5xeAHYo3M"
      },
      "source": [
        "The Dataset class defined before is used to create the train, validation and test set. After the initialization of each set a dataloader is initialized. The dataloader handle the loading of the batches during the training using the \\_\\_get_item__ function defined in the Dataset class to access the single elements."
      ]
    },
    {
      "cell_type": "code",
      "execution_count": null,
      "metadata": {
        "id": "VXutEStpYnsG",
        "outputId": "edca5ce4-e79b-4f7f-b828-8cc99b0409f8"
      },
      "outputs": [],
      "source": [
        "# Device\n",
        "device = torch.device(\"cuda\" if torch.cuda.is_available() else \"cpu\")\n",
        "print(device)\n",
        "\n",
        "# Dataset parameters\n",
        "root_path = '.\\\\eurosat\\\\2750'\n",
        "train_path = 'train_list.txt'\n",
        "val_path = 'val_list.txt'\n",
        "test_path = 'test_list.txt'\n",
        "\n",
        "im_size=224\n",
        "num_classes = 10\n",
        "\n",
        "# Dataloader parameters\n",
        "\n",
        "batch_size = 32\n",
        "num_workers = 2"
      ]
    },
    {
      "cell_type": "code",
      "execution_count": null,
      "metadata": {
        "id": "RSW6j_sIYzhr"
      },
      "outputs": [],
      "source": [
        "train_transforms = T.Compose([\n",
        "    T.Resize(im_size),\n",
        "    T.ToTensor(),\n",
        "    ])\n",
        "\n",
        "val_transforms = T.Compose([\n",
        "    T.Resize(im_size),\n",
        "    T.ToTensor(),\n",
        "    ])\n",
        "\n",
        "train_set = EuroSAT_dataset(root_path=root_path, name_list=train_path, transforms=train_transforms)\n",
        "val_set = EuroSAT_dataset(root_path=root_path, name_list=val_path, transforms=val_transforms)\n",
        "test_set = EuroSAT_dataset(root_path=root_path, name_list=test_path, transforms=val_transforms)\n",
        "\n",
        "train_loader = data.DataLoader(dataset=train_set, num_workers=num_workers, batch_size=batch_size, shuffle=True, drop_last=True) # drop last True --> drop the last bacth if it smaller than the chosen batch size\n",
        "val_loader = data.DataLoader(dataset=val_set, num_workers=num_workers, batch_size=batch_size, shuffle=False)\n",
        "test_loader = data.DataLoader(dataset=test_set, num_workers=num_workers, batch_size=batch_size, shuffle=False)"
      ]
    },
    {
      "cell_type": "code",
      "execution_count": null,
      "metadata": {
        "id": "Q141hu2oubLy"
      },
      "outputs": [],
      "source": [
        "batch_sample = next(iter(train_loader))\n",
        "images, labels = batch_sample\n",
        "\n",
        "print(images.shape)\n",
        "print(labels.shape)\n",
        "\n",
        "index = 0\n",
        "plt.imshow(images[index].transpose(0,2).cpu().detach().numpy())\n",
        "plt.show()\n",
        "print('Label of image ' + str(index) + ': ' + str(labels[index].item()))"
      ]
    },
    {
      "cell_type": "markdown",
      "metadata": {
        "id": "c3D2nFRcILJa"
      },
      "source": [
        "### Setting of training parameters"
      ]
    },
    {
      "cell_type": "code",
      "execution_count": null,
      "metadata": {
        "id": "hn3i7RGfIDM5"
      },
      "outputs": [],
      "source": [
        "# Network parameters\n",
        "in_channels = 3\n",
        "n_classes = 10\n",
        "dropout = 0.2\n",
        "\n",
        "# Training parameter\n",
        "epochs = 50\n",
        "lr = 1e-4"
      ]
    },
    {
      "cell_type": "markdown",
      "metadata": {
        "id": "4rDdekeBZcdk"
      },
      "source": [
        "### Neural Network initialization"
      ]
    },
    {
      "cell_type": "code",
      "execution_count": null,
      "metadata": {
        "id": "vkUIx-M3X87R",
        "outputId": "1b708f01-6ef8-4976-a56b-74968f735e17"
      },
      "outputs": [],
      "source": [
        "model = ConvNet(in_channels=in_channels, n_classes=n_classes, drop_p=dropout)\n",
        "\n",
        "summary(model.to(device), (in_channels, im_size, im_size))"
      ]
    },
    {
      "cell_type": "markdown",
      "metadata": {
        "id": "Mj8IBRQyZ_kD"
      },
      "source": [
        "Setting of loss function, optimizer and evaluation metric"
      ]
    },
    {
      "cell_type": "code",
      "execution_count": null,
      "metadata": {
        "id": "bl-kxl8FZ9SV"
      },
      "outputs": [],
      "source": [
        "# Loss function\n",
        "loss_function = nn.CrossEntropyLoss()\n",
        "\n",
        "# Optimizer\n",
        "optimizer = optim.Adam(model.parameters(), lr=lr)\n",
        "\n",
        "# Evaluation function\n",
        "metric_function = Accuracy(task='multiclass', num_classes=num_classes, average='macro') # average='macro' --> Compute the average of the accuracy on each class\n",
        "\n",
        "conf_train = {\n",
        "              'epochs' : epochs,\n",
        "              'loss_function' : loss_function,\n",
        "              'optimizer' : optimizer,\n",
        "              'metric_function' : metric_function,\n",
        "              'device' : device,\n",
        "              }"
      ]
    },
    {
      "cell_type": "markdown",
      "metadata": {
        "id": "0LYa4wvzY3tM"
      },
      "source": [
        "### Exectution of the training"
      ]
    },
    {
      "cell_type": "code",
      "execution_count": null,
      "metadata": {
        "id": "p5xgV5KpY9LM",
        "outputId": "2b6f9074-0b3c-4675-d947-2407403878e7"
      },
      "outputs": [],
      "source": [
        "trained_model, losses, metrics = train(model, train_loader, val_loader, conf_train)"
      ]
    },
    {
      "cell_type": "code",
      "execution_count": null,
      "metadata": {
        "id": "WpbGobK0adZ6"
      },
      "outputs": [],
      "source": [
        "plt.plot(range(epochs), losses['train_losses'])\n",
        "plt.title('Train Loss')\n",
        "plt.show()\n",
        "\n",
        "plt.plot(range(epochs), metrics['train_metrics'])\n",
        "plt.title('Train Accuracy')\n",
        "plt.show()\n",
        "\n",
        "plt.plot(range(epochs), losses['val_losses'])\n",
        "plt.title('Validation Loss')\n",
        "plt.show()\n",
        "\n",
        "plt.plot(range(epochs), metrics['val_metrics'])\n",
        "plt.title('Validation Accuracy')\n",
        "plt.show()"
      ]
    },
    {
      "cell_type": "markdown",
      "metadata": {
        "id": "OG0oCDLZag49"
      },
      "source": [
        "### Test evaluation"
      ]
    },
    {
      "cell_type": "code",
      "execution_count": null,
      "metadata": {
        "id": "Yj1jy2s0ad_j"
      },
      "outputs": [],
      "source": [
        "test_metrics = test(trained_model, test_loader, conf_train)\n",
        "print('The overall accuracy on the test set is: ' + test_metrics.item())"
      ]
    }
  ],
  "metadata": {
    "accelerator": "GPU",
    "colab": {
      "collapsed_sections": [
        "DjCiCZVegUIG"
      ],
      "gpuType": "T4",
      "provenance": []
    },
    "kernelspec": {
      "display_name": "Python 3",
      "name": "python3"
    },
    "language_info": {
      "codemirror_mode": {
        "name": "ipython",
        "version": 3
      },
      "file_extension": ".py",
      "mimetype": "text/x-python",
      "name": "python",
      "nbconvert_exporter": "python",
      "pygments_lexer": "ipython3",
      "version": "3.11.9"
    }
  },
  "nbformat": 4,
  "nbformat_minor": 0
}
